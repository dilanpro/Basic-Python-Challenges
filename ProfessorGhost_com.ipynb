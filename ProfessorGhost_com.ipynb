{
  "nbformat": 4,
  "nbformat_minor": 0,
  "metadata": {
    "colab": {
      "name": "ProfessorGhost.com",
      "provenance": [],
      "collapsed_sections": [],
      "toc_visible": true,
      "authorship_tag": "ABX9TyNb0uitdIwmx9WCToeVaFqr",
      "include_colab_link": true
    },
    "kernelspec": {
      "name": "python3",
      "display_name": "Python 3"
    },
    "language_info": {
      "name": "python"
    }
  },
  "cells": [
    {
      "cell_type": "markdown",
      "metadata": {
        "id": "view-in-github",
        "colab_type": "text"
      },
      "source": [
        "<a href=\"https://colab.research.google.com/github/dilanpro/Basic-Python-Challenges/blob/main/ProfessorGhost_com.ipynb\" target=\"_parent\"><img src=\"https://colab.research.google.com/assets/colab-badge.svg\" alt=\"Open In Colab\"/></a>"
      ]
    },
    {
      "cell_type": "markdown",
      "source": [
        "# Challenge 01: Add Two Numbers"
      ],
      "metadata": {
        "id": "yTQ7J-rqZQHt"
      }
    },
    {
      "cell_type": "markdown",
      "source": [
        "# Implementation\n",
        "\n",
        "### Parmaters\n",
        "* **val_1: float** - First Value. Should accept both integers and floats.\n",
        "* **val_2: float** - Second Value. Should accept both integers and floats.\n",
        "\n",
        "### Return Value\n",
        "* **Sum : Float** -  Sum of The First and Second Value. Should be a float."
      ],
      "metadata": {
        "id": "sjBMrZtKZQPp"
      }
    },
    {
      "cell_type": "code",
      "source": [
        "def add(val_1: float, val_2: float) -> float:\n",
        "    \"\"\"Adding Two Numbers\"\"\"    \n",
        "    return val_1 + val_2        "
      ],
      "metadata": {
        "id": "qIqQIAMyZQXn"
      },
      "execution_count": 42,
      "outputs": []
    },
    {
      "cell_type": "markdown",
      "source": [
        "# Testing"
      ],
      "metadata": {
        "id": "MgvFGuvBZQa0"
      }
    },
    {
      "cell_type": "markdown",
      "source": [
        "### Test 01: Adding Two Possitive Integers\n",
        "$10 + 15 = 25$"
      ],
      "metadata": {
        "id": "P--0WM0qZQix"
      }
    },
    {
      "cell_type": "code",
      "source": [
        "add(val_1=10, val_2=15)"
      ],
      "metadata": {
        "colab": {
          "base_uri": "https://localhost:8080/"
        },
        "id": "rjgpjljkZQqr",
        "outputId": "f4ce0d75-7600-4783-bb12-2601559a5eb7"
      },
      "execution_count": 43,
      "outputs": [
        {
          "output_type": "execute_result",
          "data": {
            "text/plain": [
              "25"
            ]
          },
          "metadata": {},
          "execution_count": 43
        }
      ]
    },
    {
      "cell_type": "markdown",
      "source": [
        "### Test 02: Adding Two Floats\n",
        "$1.5 + 2.75 = 4.25$"
      ],
      "metadata": {
        "id": "5cl_N8QoZQt4"
      }
    },
    {
      "cell_type": "code",
      "source": [
        "add(val_1=1.5, val_2=2.75)"
      ],
      "metadata": {
        "colab": {
          "base_uri": "https://localhost:8080/"
        },
        "id": "VJCsHz7YZQ12",
        "outputId": "9efabb2e-08d0-484d-b100-06c92061ce74"
      },
      "execution_count": 44,
      "outputs": [
        {
          "output_type": "execute_result",
          "data": {
            "text/plain": [
              "4.25"
            ]
          },
          "metadata": {},
          "execution_count": 44
        }
      ]
    },
    {
      "cell_type": "markdown",
      "source": [
        "### Test 03: Adding Integers and Floats\n",
        "$7.5 + 3 = 10.5$"
      ],
      "metadata": {
        "id": "nNKsZIfsZQ5A"
      }
    },
    {
      "cell_type": "code",
      "source": [
        "add(val_1=7.5, val_2=3)"
      ],
      "metadata": {
        "colab": {
          "base_uri": "https://localhost:8080/"
        },
        "id": "eWPbmuV9ZRA8",
        "outputId": "6ba738b0-1d2f-497c-f465-38153fa01a27"
      },
      "execution_count": 45,
      "outputs": [
        {
          "output_type": "execute_result",
          "data": {
            "text/plain": [
              "10.5"
            ]
          },
          "metadata": {},
          "execution_count": 45
        }
      ]
    },
    {
      "cell_type": "markdown",
      "source": [
        "### Test 04: Ading Negative and Possitive Integers\n",
        "$-3 + 2 = -1$"
      ],
      "metadata": {
        "id": "KAoyv6MCZREJ"
      }
    },
    {
      "cell_type": "code",
      "source": [
        "add(val_1=-3, val_2=2)"
      ],
      "metadata": {
        "colab": {
          "base_uri": "https://localhost:8080/"
        },
        "id": "qMFc9xImZRMF",
        "outputId": "bb60ec4f-cb49-4ace-adae-cc62e509ea7a"
      },
      "execution_count": 46,
      "outputs": [
        {
          "output_type": "execute_result",
          "data": {
            "text/plain": [
              "-1"
            ]
          },
          "metadata": {},
          "execution_count": 46
        }
      ]
    }
  ]
}